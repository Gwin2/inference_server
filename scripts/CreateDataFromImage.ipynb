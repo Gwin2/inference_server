{
 "cells": [
  {
   "cell_type": "code",
   "execution_count": 1,
   "metadata": {
    "id": "5Xa46cIHaYT2"
   },
   "outputs": [],
   "source": [
    "import os\n",
    "import pandas as pd\n",
    "import numpy as np\n",
    "import matplotlib.pyplot as plt"
   ]
  },
  {
   "cell_type": "code",
   "execution_count": 8,
   "metadata": {
    "id": "XdStBJM-ahc1"
   },
   "outputs": [],
   "source": [
    "def GetData(path_to_data, data_csv, i):\n",
    "    # data_csv = pd.read_csv(path_to_csv)\n",
    "    checker = 0\n",
    "\n",
    "    filename = data_csv['fragment_name'][i]\n",
    "    label = int(filename.split('_')[-1])\n",
    "\n",
    "\n",
    "    try:\n",
    "        tmp = np.load(path_to_data + '/' + filename)\n",
    "        signal = (tmp, label, filename)\n",
    "        checker += 1\n",
    "    except Exception as e:\n",
    "        print('Ошибка |{0}| при чтении файла |{1}|'.format(e, filenames[i]))\n",
    "        pass\n",
    "\n",
    "\n",
    "    if checker == 1:\n",
    "        return signal\n",
    "    else:\n",
    "        return 0"
   ]
  },
  {
   "cell_type": "code",
   "execution_count": 9,
   "metadata": {
    "id": "mxGUKCE0aorF"
   },
   "outputs": [],
   "source": [
    "def VizualizeData(signal, path_to_save_data):\n",
    "    print(signal[0])\n",
    "    plt.figure(figsize = (24, 8))\n",
    "\n",
    "    plt.plot(signal[0][0])\n",
    "    plt.plot(signal[0][1])\n",
    "\n",
    "    plt.axis('off')\n",
    "    plt.savefig(signal[2] + '.png', pad_inches=0, dpi = 80)\n",
    "    #plt.show()"
   ]
  },
  {
   "cell_type": "code",
   "execution_count": 10,
   "metadata": {
    "id": "aHWe6G9ZarFi"
   },
   "outputs": [
    {
     "ename": "NameError",
     "evalue": "name 'filenames' is not defined",
     "output_type": "error",
     "traceback": [
      "\u001b[1;31m---------------------------------------------------------------------------\u001b[0m",
      "\u001b[1;31mValueError\u001b[0m                                Traceback (most recent call last)",
      "Cell \u001b[1;32mIn[8], line 10\u001b[0m, in \u001b[0;36mGetData\u001b[1;34m(path_to_data, data_csv, i)\u001b[0m\n\u001b[0;32m      9\u001b[0m \u001b[38;5;28;01mtry\u001b[39;00m:\n\u001b[1;32m---> 10\u001b[0m     tmp \u001b[38;5;241m=\u001b[39m \u001b[43mnp\u001b[49m\u001b[38;5;241;43m.\u001b[39;49m\u001b[43mload\u001b[49m\u001b[43m(\u001b[49m\u001b[43mpath_to_data\u001b[49m\u001b[43m \u001b[49m\u001b[38;5;241;43m+\u001b[39;49m\u001b[43m \u001b[49m\u001b[38;5;124;43m'\u001b[39;49m\u001b[38;5;124;43m/\u001b[39;49m\u001b[38;5;124;43m'\u001b[39;49m\u001b[43m \u001b[49m\u001b[38;5;241;43m+\u001b[39;49m\u001b[43m \u001b[49m\u001b[43mfilename\u001b[49m\u001b[43m)\u001b[49m\n\u001b[0;32m     11\u001b[0m     signal \u001b[38;5;241m=\u001b[39m (tmp, label, filename)\n",
      "File \u001b[1;32m~\\.conda\\envs\\python310\\lib\\site-packages\\numpy\\lib\\npyio.py:438\u001b[0m, in \u001b[0;36mload\u001b[1;34m(file, mmap_mode, allow_pickle, fix_imports, encoding, max_header_size)\u001b[0m\n\u001b[0;32m    437\u001b[0m \u001b[38;5;28;01mif\u001b[39;00m \u001b[38;5;129;01mnot\u001b[39;00m allow_pickle:\n\u001b[1;32m--> 438\u001b[0m     \u001b[38;5;28;01mraise\u001b[39;00m \u001b[38;5;167;01mValueError\u001b[39;00m(\u001b[38;5;124m\"\u001b[39m\u001b[38;5;124mCannot load file containing pickled data \u001b[39m\u001b[38;5;124m\"\u001b[39m\n\u001b[0;32m    439\u001b[0m                      \u001b[38;5;124m\"\u001b[39m\u001b[38;5;124mwhen allow_pickle=False\u001b[39m\u001b[38;5;124m\"\u001b[39m)\n\u001b[0;32m    440\u001b[0m \u001b[38;5;28;01mtry\u001b[39;00m:\n",
      "\u001b[1;31mValueError\u001b[0m: Cannot load file containing pickled data when allow_pickle=False",
      "\nDuring handling of the above exception, another exception occurred:\n",
      "\u001b[1;31mNameError\u001b[0m                                 Traceback (most recent call last)",
      "Cell \u001b[1;32mIn[10], line 10\u001b[0m\n\u001b[0;32m      6\u001b[0m data_len \u001b[38;5;241m=\u001b[39m \u001b[38;5;28mlen\u001b[39m(data_csv\u001b[38;5;241m.\u001b[39miloc[:,\u001b[38;5;241m0\u001b[39m])\n\u001b[0;32m      9\u001b[0m \u001b[38;5;28;01mfor\u001b[39;00m i \u001b[38;5;129;01min\u001b[39;00m \u001b[38;5;28mrange\u001b[39m(data_len):\n\u001b[1;32m---> 10\u001b[0m     signal \u001b[38;5;241m=\u001b[39m \u001b[43mGetData\u001b[49m\u001b[43m(\u001b[49m\u001b[43mpath_to_data\u001b[49m\u001b[43m,\u001b[49m\u001b[43m \u001b[49m\u001b[43mdata_csv\u001b[49m\u001b[43m,\u001b[49m\u001b[43m \u001b[49m\u001b[43mi\u001b[49m\u001b[43m)\u001b[49m\n\u001b[0;32m     11\u001b[0m     \u001b[38;5;28;01mif\u001b[39;00m signal \u001b[38;5;241m!=\u001b[39m \u001b[38;5;241m0\u001b[39m:\n\u001b[0;32m     12\u001b[0m         \u001b[38;5;28mprint\u001b[39m(i, signal[\u001b[38;5;241m1\u001b[39m], signal[\u001b[38;5;241m2\u001b[39m])\n",
      "Cell \u001b[1;32mIn[8], line 14\u001b[0m, in \u001b[0;36mGetData\u001b[1;34m(path_to_data, data_csv, i)\u001b[0m\n\u001b[0;32m     12\u001b[0m     checker \u001b[38;5;241m+\u001b[39m\u001b[38;5;241m=\u001b[39m \u001b[38;5;241m1\u001b[39m\n\u001b[0;32m     13\u001b[0m \u001b[38;5;28;01mexcept\u001b[39;00m \u001b[38;5;167;01mException\u001b[39;00m \u001b[38;5;28;01mas\u001b[39;00m e:\n\u001b[1;32m---> 14\u001b[0m     \u001b[38;5;28mprint\u001b[39m(\u001b[38;5;124m'\u001b[39m\u001b[38;5;124mОшибка |\u001b[39m\u001b[38;5;132;01m{0}\u001b[39;00m\u001b[38;5;124m| при чтении файла |\u001b[39m\u001b[38;5;132;01m{1}\u001b[39;00m\u001b[38;5;124m|\u001b[39m\u001b[38;5;124m'\u001b[39m\u001b[38;5;241m.\u001b[39mformat(e, \u001b[43mfilenames\u001b[49m[i]))\n\u001b[0;32m     15\u001b[0m     \u001b[38;5;28;01mpass\u001b[39;00m\n\u001b[0;32m     18\u001b[0m \u001b[38;5;28;01mif\u001b[39;00m checker \u001b[38;5;241m==\u001b[39m \u001b[38;5;241m1\u001b[39m:\n",
      "\u001b[1;31mNameError\u001b[0m: name 'filenames' is not defined"
     ]
    }
   ],
   "source": [
    "path_to_data = 'S:/drone_dataset_v4.0/'\n",
    "path_to_csv = 'S:/drone_dataset_v4.0/dataset.csv'\n",
    "path_to_save_data = 'drone_dataset_v4.0_pictures/'\n",
    "\n",
    "data_csv = pd.read_csv(path_to_csv)\n",
    "data_len = len(data_csv.iloc[:,0])\n",
    "\n",
    "\n",
    "for i in range(data_len):\n",
    "    signal = GetData(path_to_data, data_csv, i)\n",
    "    if signal != 0:\n",
    "        print(i, signal[1], signal[2])\n",
    "        VizualizeData(signal, path_to_save_data)\n"
   ]
  },
  {
   "cell_type": "code",
   "execution_count": null,
   "metadata": {},
   "outputs": [],
   "source": []
  }
 ],
 "metadata": {
  "colab": {
   "provenance": []
  },
  "kernelspec": {
   "display_name": "Python 3 (ipykernel)",
   "language": "python",
   "name": "python3"
  },
  "language_info": {
   "codemirror_mode": {
    "name": "ipython",
    "version": 3
   },
   "file_extension": ".py",
   "mimetype": "text/x-python",
   "name": "python",
   "nbconvert_exporter": "python",
   "pygments_lexer": "ipython3",
   "version": "3.10.12"
  }
 },
 "nbformat": 4,
 "nbformat_minor": 4
}
