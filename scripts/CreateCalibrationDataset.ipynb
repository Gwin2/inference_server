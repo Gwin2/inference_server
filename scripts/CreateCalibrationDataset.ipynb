{
 "cells": [
  {
   "cell_type": "code",
   "execution_count": 1,
   "id": "c2a1bcac",
   "metadata": {},
   "outputs": [],
   "source": [
    "import os\n",
    "import numpy as np"
   ]
  },
  {
   "cell_type": "code",
   "execution_count": 2,
   "id": "24710197",
   "metadata": {},
   "outputs": [
    {
     "data": {
      "text/plain": [
       "3818"
      ]
     },
     "execution_count": 2,
     "metadata": {},
     "output_type": "execute_result"
    }
   ],
   "source": [
    "files = os.listdir('/home/bulbasaur/Desktop/NN/datasets/drone_dataset_v2.5/')\n",
    "len(files)"
   ]
  },
  {
   "cell_type": "code",
   "execution_count": 3,
   "id": "5539e56e",
   "metadata": {},
   "outputs": [
    {
     "data": {
      "text/plain": [
       "3818"
      ]
     },
     "execution_count": 3,
     "metadata": {},
     "output_type": "execute_result"
    }
   ],
   "source": [
    "noises = []\n",
    "dji_video = []\n",
    "dji_control = []\n",
    "wifi = []\n",
    "dir_path = '/home/bulbasaur/Desktop/NN/datasets/drone_dataset_v2.5/'\n",
    "save_path = '/home/bulbasaur/Desktop/NN/datasets/calibration_DJI_1m/'\n",
    "textfile_path = save_path + 'dataset.txt'\n",
    "textfile_prefix = './datasets/' # for to_rknn.py\n",
    "samples_number = 125\n",
    "classes_files = {'0': noises, '1': dji_video, '2': dji_control, '3': wifi }\n",
    "file_tags = ['noise', 'DJI_video', 'DJI_control', 'wifi']\n",
    "files = os.listdir(dir_path)\n",
    "len(files)"
   ]
  },
  {
   "cell_type": "code",
   "execution_count": null,
   "id": "924571bd",
   "metadata": {},
   "outputs": [],
   "source": []
  },
  {
   "cell_type": "code",
   "execution_count": 5,
   "id": "e1488169",
   "metadata": {},
   "outputs": [
    {
     "name": "stdout",
     "output_type": "stream",
     "text": [
      "[Errno 17] File exists: '/home/bulbasaur/Desktop/NN/datasets/calibration_DJI_1m/'\n"
     ]
    }
   ],
   "source": [
    "try:\n",
    "    os.mkdir(save_path)\n",
    "except Exception as e:\n",
    "    print(str(e))"
   ]
  },
  {
   "cell_type": "code",
   "execution_count": 6,
   "id": "6c3e6dfb",
   "metadata": {},
   "outputs": [],
   "source": [
    "\n",
    "it = 0\n",
    "for tag in file_tags:\n",
    "    for file in files:\n",
    "        if tag in file:\n",
    "            classes_files[str(it)].append(file)\n",
    "    it += 1\n",
    "\n"
   ]
  },
  {
   "cell_type": "code",
   "execution_count": 7,
   "id": "69e3aa93",
   "metadata": {},
   "outputs": [
    {
     "name": "stdout",
     "output_type": "stream",
     "text": [
      "0 1285\n",
      "1 796\n",
      "2 133\n",
      "3 803\n"
     ]
    }
   ],
   "source": [
    "for key in classes_files.keys():\n",
    "    print(key, len(classes_files[key]))"
   ]
  },
  {
   "cell_type": "markdown",
   "id": "7c202566",
   "metadata": {},
   "source": [
    "# Create calibration set dir"
   ]
  },
  {
   "cell_type": "code",
   "execution_count": 8,
   "id": "54668888",
   "metadata": {},
   "outputs": [],
   "source": [
    "def make_calibration_sampling(samples: list, label: str, samples_number: int, dir_path: str, save_path: str):\n",
    "    \"\"\"\n",
    "    Saves samples for calibration in '.npy' format.\n",
    "    Samples are labeled as follows: `number_in_row_label.npy`\n",
    "    \n",
    "    Arguments:\n",
    "        samples, list[str] - \n",
    "        lavel, str -\n",
    "        samples_number, int -\n",
    "        dir_path, str - \n",
    "        save_path, str -\n",
    "    \"\"\"\n",
    "    indexes = np.random.randint(0, len(samples)-1, samples_number)\n",
    "    \n",
    "    for idx, item in enumerate(np.array(samples)[indexes]):\n",
    "        prefix = '_' + label + '.npy'\n",
    "        with open(dir_path + item, 'rb') as f:\n",
    "            d_arr = np.frombuffer(f.read(), dtype=np.complex64)\n",
    "\n",
    "        # sig = [d_arr.real, d_arr.imag]\n",
    "        _x = d_arr.real\n",
    "        _y = d_arr.imag\n",
    "\n",
    "        arr = np.array([[_x, _y]])\n",
    "\n",
    "        np.save(save_path + f\"{idx}\" + prefix, arr)"
   ]
  },
  {
   "cell_type": "code",
   "execution_count": 9,
   "id": "a303a6cd",
   "metadata": {},
   "outputs": [],
   "source": [
    "for key in classes_files.keys():\n",
    "    make_calibration_sampling(classes_files[key], key, samples_number, dir_path, save_path)"
   ]
  },
  {
   "cell_type": "markdown",
   "id": "fcb9ea45",
   "metadata": {},
   "source": [
    "# Create dataset.txt"
   ]
  },
  {
   "cell_type": "code",
   "execution_count": 10,
   "id": "6d3e8ce6",
   "metadata": {},
   "outputs": [
    {
     "name": "stdout",
     "output_type": "stream",
     "text": [
      "500\n"
     ]
    }
   ],
   "source": [
    "files = os.listdir(save_path)\n",
    "print(len(files))"
   ]
  },
  {
   "cell_type": "code",
   "execution_count": 12,
   "id": "ac48fcee",
   "metadata": {},
   "outputs": [],
   "source": [
    "with open(textfile_path, 'w') as fl:\n",
    "    for file in files:\n",
    "        fl.write('calibration_DJI_1m/' + file + '\\n')\n",
    "        "
   ]
  },
  {
   "cell_type": "code",
   "execution_count": null,
   "id": "ccf59a2d",
   "metadata": {},
   "outputs": [],
   "source": []
  },
  {
   "cell_type": "code",
   "execution_count": null,
   "id": "fbcab24c",
   "metadata": {},
   "outputs": [],
   "source": []
  }
 ],
 "metadata": {
  "kernelspec": {
   "display_name": "Python 3 (ipykernel)",
   "language": "python",
   "name": "python3"
  },
  "language_info": {
   "codemirror_mode": {
    "name": "ipython",
    "version": 3
   },
   "file_extension": ".py",
   "mimetype": "text/x-python",
   "name": "python",
   "nbconvert_exporter": "python",
   "pygments_lexer": "ipython3",
   "version": "3.10.11"
  }
 },
 "nbformat": 4,
 "nbformat_minor": 5
}
